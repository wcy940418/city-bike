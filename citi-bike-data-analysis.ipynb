{
 "cells": [
  {
   "cell_type": "code",
   "execution_count": 32,
   "metadata": {
    "collapsed": false
   },
   "outputs": [
    {
     "name": "stdout",
     "output_type": "stream",
     "text": [
      "10 stations may need more pre-set bikes:\n",
      "\n",
      "PABT Valet                          -23\n",
      "Penn Station Valet                  -15\n",
      "Broadway & W 55 St                  -14\n",
      "E 7 St & Avenue A                   -14\n",
      "Pershing Square South               -14\n",
      "Bialystoker Pl & Delancey St        -10\n",
      "Allen St & E Houston St             -10\n",
      "Clark St & Henry St                 -10\n",
      "Broadway & W 37 St                  -9\n",
      "W 52 St & 9 Ave                     -9\n",
      "\n",
      "10 stations may need bigger sizes:\n",
      "\n",
      "W 33 St & 7 Ave                     20\n",
      "W 41 St & 8 Ave                     19\n",
      "DeKalb Ave & Hudson Ave             19\n",
      "12 Ave & W 40 St                    15\n",
      "Greenwich St & Warren St            12\n",
      "E 6 St & Avenue B                   11\n",
      "Pearl St & Hanover Square           11\n",
      "W Broadway & Spring St              10\n",
      "Greenwich Ave & 8 Ave               8\n",
      "E 17 St & Broadway                  7\n"
     ]
    }
   ],
   "source": [
    "import csv\n",
    "filename = \"201601.csv\"\n",
    "station_entering = []\n",
    "station_leaving = []\n",
    "\n",
    "def getkey(item):\n",
    "    return item[0]\n",
    "\n",
    "with open(filename, 'r') as csvfile:\n",
    "    filereader = csv.reader(csvfile, delimiter=',')\n",
    "    header = next(filereader)\n",
    "    for row in filereader:\n",
    "        station_leaving.append(row[4])\n",
    "        station_entering.append(row[8])\n",
    "counts = {}\n",
    "unique_station_entering = set(station_entering)\n",
    "unique_station_leaving = set(station_leaving)\n",
    "\n",
    "for station in unique_station_leaving:\n",
    "    if not station in counts:\n",
    "        counts[station] = {'entering':0, 'leaving':0, 'difference':0}\n",
    "    counts[station]['leaving'] = station_leaving.count(station)\n",
    "\n",
    "for station in unique_station_entering:\n",
    "    if not station in counts:\n",
    "        counts[station] = {'entering':0, 'leaving':0, 'difference':0}\n",
    "    counts[station]['entering'] = station_entering.count(station) \n",
    "\n",
    "data_list = []\n",
    "for station in counts:\n",
    "    counts[station]['difference'] = int(counts[station]['entering']) - int(counts[station]['leaving'])\n",
    "    data_list.append((counts[station]['difference'], station))\n",
    "\n",
    "data_sorted = sorted(data_list, key = getkey)\n",
    "\n",
    "print(\"10 stations may need more pre-set bikes:\")\n",
    "print(\"\")\n",
    "for i in range(10):\n",
    "    print (\"%-35s %d\" % (data_sorted[i][1], round(data_sorted[i][0] / 30)))\n",
    "\n",
    "print(\"\")\n",
    "print(\"10 stations may need bigger sizes:\")\n",
    "print(\"\")\n",
    "for i in range(10):\n",
    "    print (\"%-35s %d\" % (data_sorted[len(data_sorted) - i - 1][1],round(data_sorted[len(data_sorted) - i - 1][0] / 30)))\n"
   ]
  },
  {
   "cell_type": "code",
   "execution_count": null,
   "metadata": {
    "collapsed": true
   },
   "outputs": [],
   "source": []
  }
 ],
 "metadata": {
  "kernelspec": {
   "display_name": "Python 3",
   "language": "python",
   "name": "python3"
  },
  "language_info": {
   "codemirror_mode": {
    "name": "ipython",
    "version": 3
   },
   "file_extension": ".py",
   "mimetype": "text/x-python",
   "name": "python",
   "nbconvert_exporter": "python",
   "pygments_lexer": "ipython3",
   "version": "3.4.3"
  }
 },
 "nbformat": 4,
 "nbformat_minor": 1
}
